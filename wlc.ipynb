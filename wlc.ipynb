{
  "nbformat": 4,
  "nbformat_minor": 0,
  "metadata": {
    "colab": {
      "name": "wlc.ipynb",
      "provenance": [],
      "collapsed_sections": []
    },
    "kernelspec": {
      "name": "python3",
      "display_name": "Python 3"
    }
  },
  "cells": [
    {
      "cell_type": "markdown",
      "metadata": {
        "id": "JURoLjUtJF4N",
        "colab_type": "text"
      },
      "source": [
        "Download data and examine"
      ]
    },
    {
      "cell_type": "code",
      "metadata": {
        "id": "PPLfh_XFIwjt",
        "colab_type": "code",
        "colab": {
          "base_uri": "https://localhost:8080/",
          "height": 547
        },
        "outputId": "cbd537c9-66fd-4903-c893-2eac8b22f2a0"
      },
      "source": [
        "!wget -O data.log.gz 'https://github.com/PaytmLabs/WeblogChallenge/blob/master/data/2015_07_22_mktplace_shop_web_log_sample.log.gz?raw=true'\n",
        "!gunzip data.log.gz\n",
        "!head data.log"
      ],
      "execution_count": 2,
      "outputs": [
        {
          "output_type": "stream",
          "text": [
            "--2020-02-15 04:36:27--  https://github.com/PaytmLabs/WeblogChallenge/blob/master/data/2015_07_22_mktplace_shop_web_log_sample.log.gz?raw=true\n",
            "Resolving github.com (github.com)... 140.82.113.4\n",
            "Connecting to github.com (github.com)|140.82.113.4|:443... connected.\n",
            "HTTP request sent, awaiting response... 302 Found\n",
            "Location: https://github.com/PaytmLabs/WeblogChallenge/raw/master/data/2015_07_22_mktplace_shop_web_log_sample.log.gz [following]\n",
            "--2020-02-15 04:36:27--  https://github.com/PaytmLabs/WeblogChallenge/raw/master/data/2015_07_22_mktplace_shop_web_log_sample.log.gz\n",
            "Reusing existing connection to github.com:443.\n",
            "HTTP request sent, awaiting response... 302 Found\n",
            "Location: https://raw.githubusercontent.com/PaytmLabs/WeblogChallenge/master/data/2015_07_22_mktplace_shop_web_log_sample.log.gz [following]\n",
            "--2020-02-15 04:36:27--  https://raw.githubusercontent.com/PaytmLabs/WeblogChallenge/master/data/2015_07_22_mktplace_shop_web_log_sample.log.gz\n",
            "Resolving raw.githubusercontent.com (raw.githubusercontent.com)... 151.101.0.133, 151.101.64.133, 151.101.128.133, ...\n",
            "Connecting to raw.githubusercontent.com (raw.githubusercontent.com)|151.101.0.133|:443... connected.\n",
            "HTTP request sent, awaiting response... 200 OK\n",
            "Length: 53832694 (51M) [application/octet-stream]\n",
            "Saving to: ‘data.log.gz’\n",
            "\n",
            "data.log.gz         100%[===================>]  51.34M   164MB/s    in 0.3s    \n",
            "\n",
            "2020-02-15 04:36:28 (164 MB/s) - ‘data.log.gz’ saved [53832694/53832694]\n",
            "\n",
            "2015-07-22T09:00:28.019143Z marketpalce-shop 123.242.248.130:54635 10.0.6.158:80 0.000022 0.026109 0.00002 200 200 0 699 \"GET https://paytm.com:443/shop/authresponse?code=f2405b05-e2ee-4b0d-8f6a-9fed0fcfe2e0&state=null HTTP/1.1\" \"Mozilla/5.0 (Windows NT 6.1; WOW64) AppleWebKit/537.36 (KHTML, like Gecko) Chrome/43.0.2357.130 Safari/537.36\" ECDHE-RSA-AES128-GCM-SHA256 TLSv1.2\n",
            "2015-07-22T09:00:27.894580Z marketpalce-shop 203.91.211.44:51402 10.0.4.150:80 0.000024 0.15334 0.000026 200 200 0 1497 \"GET https://paytm.com:443/shop/wallet/txnhistory?page_size=10&page_number=0&channel=web&version=2 HTTP/1.1\" \"Mozilla/5.0 (Windows NT 6.1; rv:39.0) Gecko/20100101 Firefox/39.0\" ECDHE-RSA-AES128-GCM-SHA256 TLSv1.2\n",
            "2015-07-22T09:00:27.885745Z marketpalce-shop 1.39.32.179:56419 10.0.4.244:80 0.000024 0.164958 0.000017 200 200 0 157 \"GET https://paytm.com:443/shop/wallet/txnhistory?page_size=10&page_number=0&channel=web&version=2 HTTP/1.1\" \"Mozilla/5.0 (Windows NT 6.1) AppleWebKit/537.36 (KHTML, like Gecko) Chrome/43.0.2357.134 Safari/537.36\" ECDHE-RSA-AES128-GCM-SHA256 TLSv1.2\n",
            "2015-07-22T09:00:28.048369Z marketpalce-shop 180.179.213.94:48725 10.0.6.108:80 0.00002 0.002333 0.000021 200 200 0 35734 \"GET https://paytm.com:443/shop/p/micromax-yu-yureka-moonstone-grey-MOBMICROMAX-YU-DUMM141CD60AF7C_34315 HTTP/1.0\" \"-\" ECDHE-RSA-AES128-GCM-SHA256 TLSv1.2\n",
            "2015-07-22T09:00:28.036251Z marketpalce-shop 120.59.192.208:13527 10.0.4.217:80 0.000024 0.015091 0.000016 200 200 68 640 \"POST https://paytm.com:443/papi/v1/expresscart/verify HTTP/1.1\" \"Mozilla/5.0 (Windows NT 6.1; WOW64) AppleWebKit/537.36 (KHTML, like Gecko) Chrome/44.0.2403.89 Safari/537.36\" ECDHE-RSA-AES128-GCM-SHA256 TLSv1.2\n",
            "2015-07-22T09:00:28.033793Z marketpalce-shop 117.239.195.66:50524 10.0.6.195:80 0.000024 0.02157 0.000021 200 200 0 60 \"GET https://paytm.com:443/api/user/favourite?channel=web&version=2 HTTP/1.1\" \"Mozilla/5.0 (Windows NT 6.1) AppleWebKit/537.36 (KHTML, like Gecko) Chrome/43.0.2357.134 Safari/537.36\" ECDHE-RSA-AES128-GCM-SHA256 TLSv1.2\n",
            "2015-07-22T09:00:28.055029Z marketpalce-shop 101.60.186.26:33177 10.0.4.244:80 0.00002 0.001098 0.000022 200 200 0 1150 \"GET https://paytm.com:443/favicon.ico HTTP/1.1\" \"Mozilla/5.0 (Windows NT 6.3; rv:27.0) Gecko/20100101 Firefox/27.0\" ECDHE-RSA-AES128-GCM-SHA256 TLSv1.2\n",
            "2015-07-22T09:00:28.050298Z marketpalce-shop 59.183.41.47:62014 10.0.4.227:80 0.000021 0.008161 0.000021 200 200 0 72 \"GET https://paytm.com:443/papi/rr/products/6937770/statistics?channel=web&version=2 HTTP/1.1\" \"Mozilla/5.0 (Windows NT 6.3; WOW64) AppleWebKit/537.36 (KHTML, like Gecko) Chrome/43.0.2357.134 Safari/537.36\" ECDHE-RSA-AES128-GCM-SHA256 TLSv1.2\n",
            "2015-07-22T09:00:28.059081Z marketpalce-shop 117.239.195.66:50538 10.0.4.227:80 0.000019 0.001035 0.000021 200 200 0 396 \"GET https://paytm.com:443/images/greyStar.png HTTP/1.1\" \"Mozilla/5.0 (Windows NT 6.1) AppleWebKit/537.36 (KHTML, like Gecko) Chrome/43.0.2357.134 Safari/537.36\" ECDHE-RSA-AES128-GCM-SHA256 TLSv1.2\n",
            "2015-07-22T09:00:28.054939Z marketpalce-shop 183.83.237.83:49687 10.0.6.108:80 0.000023 0.008762 0.000021 200 200 0 214 \"GET https://paytm.com:443/shop/cart?channel=web&version=2 HTTP/1.1\" \"Mozilla/5.0 (Windows NT 6.1; WOW64) AppleWebKit/537.36 (KHTML, like Gecko) Chrome/43.0.2357.124 Safari/537.36\" ECDHE-RSA-AES128-GCM-SHA256 TLSv1.2\n"
          ],
          "name": "stdout"
        }
      ]
    },
    {
      "cell_type": "markdown",
      "metadata": {
        "id": "woMLPKEmJEPH",
        "colab_type": "text"
      },
      "source": [
        "Investigate the out of order issue"
      ]
    },
    {
      "cell_type": "code",
      "metadata": {
        "id": "U_FbsCpSKrGt",
        "colab_type": "code",
        "colab": {
          "base_uri": "https://localhost:8080/",
          "height": 527
        },
        "outputId": "b44a031a-1725-457d-ca97-6bc76846e34b"
      },
      "source": [
        "from dateutil.parser import parse\n",
        "from datetime import datetime\n",
        "import pandas as pd\n",
        "\n",
        "mark = '2015-07-22T09:00:28.019143Z'\n",
        "ntschar = len(mark)\n",
        "epoch = parse(mark)\n",
        "\n",
        "nskip = len('2015-07-22T09:00:28.019143Z marketpalce-shop ')\n",
        "\n",
        "tss = []\n",
        "ips = []\n",
        "nlines = 20000\n",
        "with open('data.log') as f:\n",
        "  for idx, line in enumerate(f):\n",
        "    if idx > nlines:\n",
        "      break\n",
        "    parsed = parse(line[:ntschar])\n",
        "    tss.append((parsed - epoch).total_seconds())\n",
        "    ips.append(line[nskip:line.find(':', nskip)])\n",
        "\n",
        "df = pd.DataFrame.from_dict({'ts': tss, 'ip': ips})\n",
        "\n",
        "def count_disorder(data):\n",
        "  data['count_disorder'] = (data['ts'] - data['ts'].shift(1) < 0).sum()\n",
        "  data['count'] = len(data)\n",
        "  return data.iloc[0]\n",
        "\n",
        "agg = df.groupby(['ip']).apply(count_disorder)\n",
        "agg = agg[agg['count_disorder'] > 0]\n",
        "print(agg.sort_values(['count_disorder']))\n",
        "print(agg.sort_values(['count']))"
      ],
      "execution_count": 37,
      "outputs": [
        {
          "output_type": "stream",
          "text": [
            "                        ts               ip  count_disorder  count\n",
            "ip                                                                \n",
            "14.139.196.4      6.134259     14.139.196.4               1      6\n",
            "14.139.212.103   13.238470   14.139.212.103               1      3\n",
            "14.139.217.139   11.948064   14.139.217.139               1      5\n",
            "14.139.217.165    0.406500   14.139.217.165               1      7\n",
            "14.139.242.60    17.542776    14.139.242.60               1      6\n",
            "...                    ...              ...             ...    ...\n",
            "167.220.236.53   14.544808   167.220.236.53              11     61\n",
            "103.5.132.5      19.864186      103.5.132.5              11    109\n",
            "168.235.197.72   27.178087   168.235.197.72              13     70\n",
            "115.248.214.203   3.955768  115.248.214.203              16     80\n",
            "168.235.197.179  29.126509  168.235.197.179              21     69\n",
            "\n",
            "[303 rows x 4 columns]\n",
            "                        ts               ip  count_disorder  count\n",
            "ip                                                                \n",
            "203.143.186.45   46.902348   203.143.186.45               1      2\n",
            "223.30.186.182    8.283726   223.30.186.182               1      2\n",
            "182.72.66.70      0.741994     182.72.66.70               1      2\n",
            "122.180.60.94     6.703838    122.180.60.94               1      2\n",
            "112.79.38.24     27.185282     112.79.38.24               1      2\n",
            "...                    ...              ...             ...    ...\n",
            "83.110.107.194   42.122628   83.110.107.194               2     93\n",
            "204.152.239.219   2.420277  204.152.239.219               1     93\n",
            "108.171.159.41    1.533138   108.171.159.41               3    102\n",
            "103.5.132.5      19.864186      103.5.132.5              11    109\n",
            "52.74.219.71      0.328998     52.74.219.71               6    534\n",
            "\n",
            "[303 rows x 4 columns]\n"
          ],
          "name": "stdout"
        }
      ]
    },
    {
      "cell_type": "code",
      "metadata": {
        "id": "vhR0CBffNXo9",
        "colab_type": "code",
        "colab": {
          "base_uri": "https://localhost:8080/",
          "height": 1000
        },
        "outputId": "58cf1989-7a8a-4d86-8af0-6ccfa7fad55a"
      },
      "source": [
        "df[df['ip'] == '168.235.197.179'].plot(style='.')\n",
        "df[df['ip'] == '115.248.214.203'].plot(style='.')\n",
        "df[df['ip'] == '103.5.132.5'].plot(style='.')\n",
        "df[df['ip'] == '52.74.219.71'].plot(style='.')"
      ],
      "execution_count": 42,
      "outputs": [
        {
          "output_type": "execute_result",
          "data": {
            "text/plain": [
              "<matplotlib.axes._subplots.AxesSubplot at 0x7fc71e34a390>"
            ]
          },
          "metadata": {
            "tags": []
          },
          "execution_count": 42
        },
        {
          "output_type": "display_data",
          "data": {
            "image/png": "[encoded data removed]",
            "text/plain": [
              "<Figure size 432x288 with 1 Axes>"
            ]
          },
          "metadata": {
            "tags": []
          }
        },
        {
          "output_type": "display_data",
          "data": {
            "image/png": "[encoded data removed]",
            "text/plain": [
              "<Figure size 432x288 with 1 Axes>"
            ]
          },
          "metadata": {
            "tags": []
          }
        },
        {
          "output_type": "display_data",
          "data": {
            "image/png": "[encoded data removed]",
            "text/plain": [
              "<Figure size 432x288 with 1 Axes>"
            ]
          },
          "metadata": {
            "tags": []
          }
        },
        {
          "output_type": "display_data",
          "data": {
            "image/png": "[encoded data removed]",
            "text/plain": [
              "<Figure size 432x288 with 1 Axes>"
            ]
          },
          "metadata": {
            "tags": []
          }
        }
      ]
    },
    {
      "cell_type": "markdown",
      "metadata": {
        "id": "wZhzE-T4SBl3",
        "colab_type": "text"
      },
      "source": [
        "The out of order issue only happens with timestamps very close together, we can mostly treat them as in order for stream processing."
      ]
    }
  ]
}